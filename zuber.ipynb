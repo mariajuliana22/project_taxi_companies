{
 "cells": [
  {
   "cell_type": "markdown",
   "id": "4c437a0a",
   "metadata": {},
   "source": [
    "# Zuber, una nueva empresa de viajes compartidos \n",
    "Se tienen datos de viajes de varias compañías de taxis, partir de estos se va a:\n",
    "- Estudiar los datos que contienen las bases de datos.\n",
    "- Identificar los 10 principales barrios en términos de finalización y las 10 principales compañías de taxis.\n",
    "- Graficar: empresas de taxis y número de viajes, los 10 barrios principales por finalizaciones y número de viajes.\n",
    "- Hacer la prueba de hipótesis: \"La duración promedio de los viajes desde el Loop hasta el Aeropuerto Internacional O'Hare cambia los sábados lluviosos\".\n",
    "\n",
    "Descripción de los datos\n",
    "Una base de datos con información sobre viajes en taxi en Chicago:\n",
    "\n",
    "Tabla neighborhoods: datos sobre los barrios de la ciudad\n",
    "* name: nombre del barrio\n",
    "* neighborhood_id: código del barrio\n",
    "\n",
    "Tabla cabs: datos sobre los taxis\n",
    "* cab_id: código del vehículo\n",
    "* vehicle_id: ID técnico del vehículo\n",
    "* company_name: la empresa propietaria del vehículo\n",
    "\n",
    "Tabla trips: datos sobre los viajes\n",
    "* trip_id: código del viaje\n",
    "* cab_id: código del vehículo que opera el viaje\n",
    "* start_ts: fecha y hora del inicio del viaje (tiempo redondeado a la hora)\n",
    "* end_ts: fecha y hora de finalización del viaje (tiempo redondeado a la hora)\n",
    "* duration_seconds: duración del viaje en segundos\n",
    "* distance_miles: distancia del viaje en millas\n",
    "* pickup_location_id: código del barrio de recogida\n",
    "* dropoff_location_id: código del barrio de finalización\n",
    "\n",
    "Tabla weather_records: datos sobre el clima\n",
    "* record_id: código del registro meteorológico\n",
    "* ts: fecha y hora del registro (tiempo redondeado a la hora)\n",
    "* temperature: temperatura cuando se tomó el registro\n",
    "* description: breve descripción de las condiciones meteorológicas, por ejemplo, \"lluvia ligera\" o \"nubes dispersas\"\n",
    "\n",
    "Pasos del proyecto:\n",
    "1. Preprocesamiento de datos\n",
    "2. Análisis exploratorio de datos\n",
    "3. Prueba la hipótesis de que la duración de los viajes desde el Loop hasta el Aeropuerto Internacional O'Hare cambia los sábados lluviosos."
   ]
  },
  {
   "cell_type": "markdown",
   "id": "c7d4ee91",
   "metadata": {},
   "source": [
    "## Preprocesamiento de datos"
   ]
  },
  {
   "cell_type": "code",
   "execution_count": 1,
   "id": "cafb8b27",
   "metadata": {},
   "outputs": [],
   "source": [
    "#Se importan las librerias que se van a utilizar\n",
    "\n",
    "import pandas as pd\n",
    "from matplotlib import pyplot as plt\n",
    "import numpy as np\n",
    "from scipy import stats as st"
   ]
  },
  {
   "cell_type": "code",
   "execution_count": 3,
   "id": "6d57645f",
   "metadata": {},
   "outputs": [],
   "source": [
    "#Se importan los archivos de datos\n",
    "\n",
    "company = pd.read_csv('/datasets/project_sql_result_01.csv')\n",
    "\n",
    "neighborhood = pd.read_csv('/datasets/project_sql_result_04.csv')\n",
    "\n",
    "ride = pd.read_csv('/datasets/project_sql_result_07.csv') "
   ]
  },
  {
   "cell_type": "markdown",
   "id": "fce06487",
   "metadata": {},
   "source": [
    "### Company"
   ]
  },
  {
   "cell_type": "code",
   "execution_count": 8,
   "id": "3596f3b9",
   "metadata": {},
   "outputs": [
    {
     "name": "stdout",
     "output_type": "stream",
     "text": [
      "<class 'pandas.core.frame.DataFrame'>\n",
      "RangeIndex: 64 entries, 0 to 63\n",
      "Data columns (total 2 columns):\n",
      " #   Column        Non-Null Count  Dtype \n",
      "---  ------        --------------  ----- \n",
      " 0   company_name  64 non-null     object\n",
      " 1   trips_amount  64 non-null     int64 \n",
      "dtypes: int64(1), object(1)\n",
      "memory usage: 1.1+ KB\n"
     ]
    }
   ],
   "source": [
    "#Información general\n",
    "company.info()"
   ]
  },
  {
   "cell_type": "markdown",
   "id": "2dc15a4d",
   "metadata": {},
   "source": [
    "Para los datos 'company', los nombres de las columnas tienen un formato adecuado, no hay valores ausentes y los tipos de datos son correctos."
   ]
  },
  {
   "cell_type": "code",
   "execution_count": 9,
   "id": "2422ea31",
   "metadata": {},
   "outputs": [
    {
     "data": {
      "text/html": [
       "<div>\n",
       "<style scoped>\n",
       "    .dataframe tbody tr th:only-of-type {\n",
       "        vertical-align: middle;\n",
       "    }\n",
       "\n",
       "    .dataframe tbody tr th {\n",
       "        vertical-align: top;\n",
       "    }\n",
       "\n",
       "    .dataframe thead th {\n",
       "        text-align: right;\n",
       "    }\n",
       "</style>\n",
       "<table border=\"1\" class=\"dataframe\">\n",
       "  <thead>\n",
       "    <tr style=\"text-align: right;\">\n",
       "      <th></th>\n",
       "      <th>company_name</th>\n",
       "      <th>trips_amount</th>\n",
       "    </tr>\n",
       "  </thead>\n",
       "  <tbody>\n",
       "    <tr>\n",
       "      <th>0</th>\n",
       "      <td>Flash Cab</td>\n",
       "      <td>19558</td>\n",
       "    </tr>\n",
       "    <tr>\n",
       "      <th>1</th>\n",
       "      <td>Taxi Affiliation Services</td>\n",
       "      <td>11422</td>\n",
       "    </tr>\n",
       "    <tr>\n",
       "      <th>2</th>\n",
       "      <td>Medallion Leasing</td>\n",
       "      <td>10367</td>\n",
       "    </tr>\n",
       "    <tr>\n",
       "      <th>3</th>\n",
       "      <td>Yellow Cab</td>\n",
       "      <td>9888</td>\n",
       "    </tr>\n",
       "    <tr>\n",
       "      <th>4</th>\n",
       "      <td>Taxi Affiliation Service Yellow</td>\n",
       "      <td>9299</td>\n",
       "    </tr>\n",
       "  </tbody>\n",
       "</table>\n",
       "</div>"
      ],
      "text/plain": [
       "                      company_name  trips_amount\n",
       "0                        Flash Cab         19558\n",
       "1        Taxi Affiliation Services         11422\n",
       "2                Medallion Leasing         10367\n",
       "3                       Yellow Cab          9888\n",
       "4  Taxi Affiliation Service Yellow          9299"
      ]
     },
     "execution_count": 9,
     "metadata": {},
     "output_type": "execute_result"
    }
   ],
   "source": [
    "#Compañias de taxis y sus viajes\n",
    "company.head() "
   ]
  },
  {
   "cell_type": "code",
   "execution_count": 14,
   "id": "ef672b66",
   "metadata": {},
   "outputs": [
    {
     "data": {
      "text/plain": [
       "0"
      ]
     },
     "execution_count": 14,
     "metadata": {},
     "output_type": "execute_result"
    }
   ],
   "source": [
    " #Se verifica si hay valores duplicados\n",
    "company.duplicated().sum()"
   ]
  },
  {
   "cell_type": "markdown",
   "id": "907dc1d5",
   "metadata": {},
   "source": [
    "### Neighborhood"
   ]
  },
  {
   "cell_type": "code",
   "execution_count": 10,
   "id": "e10da6a2",
   "metadata": {},
   "outputs": [
    {
     "name": "stdout",
     "output_type": "stream",
     "text": [
      "<class 'pandas.core.frame.DataFrame'>\n",
      "RangeIndex: 94 entries, 0 to 93\n",
      "Data columns (total 2 columns):\n",
      " #   Column                 Non-Null Count  Dtype  \n",
      "---  ------                 --------------  -----  \n",
      " 0   dropoff_location_name  94 non-null     object \n",
      " 1   average_trips          94 non-null     float64\n",
      "dtypes: float64(1), object(1)\n",
      "memory usage: 1.6+ KB\n"
     ]
    }
   ],
   "source": [
    "#información general\n",
    "neighborhood.info()"
   ]
  },
  {
   "cell_type": "markdown",
   "id": "1ff70fd3",
   "metadata": {},
   "source": [
    "Para los datos 'neighborhood', los nombres de las columnas tienen un formato adecuado, no hay valores ausentes y los tipos de datos son correctos."
   ]
  },
  {
   "cell_type": "code",
   "execution_count": 5,
   "id": "7863beec",
   "metadata": {},
   "outputs": [
    {
     "data": {
      "text/html": [
       "<div>\n",
       "<style scoped>\n",
       "    .dataframe tbody tr th:only-of-type {\n",
       "        vertical-align: middle;\n",
       "    }\n",
       "\n",
       "    .dataframe tbody tr th {\n",
       "        vertical-align: top;\n",
       "    }\n",
       "\n",
       "    .dataframe thead th {\n",
       "        text-align: right;\n",
       "    }\n",
       "</style>\n",
       "<table border=\"1\" class=\"dataframe\">\n",
       "  <thead>\n",
       "    <tr style=\"text-align: right;\">\n",
       "      <th></th>\n",
       "      <th>dropoff_location_name</th>\n",
       "      <th>average_trips</th>\n",
       "    </tr>\n",
       "  </thead>\n",
       "  <tbody>\n",
       "    <tr>\n",
       "      <th>0</th>\n",
       "      <td>Loop</td>\n",
       "      <td>10727.466667</td>\n",
       "    </tr>\n",
       "    <tr>\n",
       "      <th>1</th>\n",
       "      <td>River North</td>\n",
       "      <td>9523.666667</td>\n",
       "    </tr>\n",
       "    <tr>\n",
       "      <th>2</th>\n",
       "      <td>Streeterville</td>\n",
       "      <td>6664.666667</td>\n",
       "    </tr>\n",
       "    <tr>\n",
       "      <th>3</th>\n",
       "      <td>West Loop</td>\n",
       "      <td>5163.666667</td>\n",
       "    </tr>\n",
       "    <tr>\n",
       "      <th>4</th>\n",
       "      <td>O'Hare</td>\n",
       "      <td>2546.900000</td>\n",
       "    </tr>\n",
       "  </tbody>\n",
       "</table>\n",
       "</div>"
      ],
      "text/plain": [
       "  dropoff_location_name  average_trips\n",
       "0                  Loop   10727.466667\n",
       "1           River North    9523.666667\n",
       "2         Streeterville    6664.666667\n",
       "3             West Loop    5163.666667\n",
       "4                O'Hare    2546.900000"
      ]
     },
     "execution_count": 5,
     "metadata": {},
     "output_type": "execute_result"
    }
   ],
   "source": [
    "#Ubicación de las finalizaciones de los viajes y sus viajes promedio\n",
    "neighborhood.head() "
   ]
  },
  {
   "cell_type": "code",
   "execution_count": 15,
   "id": "65ef177c",
   "metadata": {},
   "outputs": [
    {
     "data": {
      "text/plain": [
       "0"
      ]
     },
     "execution_count": 15,
     "metadata": {},
     "output_type": "execute_result"
    }
   ],
   "source": [
    " #Se verifica si hay valores duplicados\n",
    "neighborhood.duplicated().sum()"
   ]
  },
  {
   "cell_type": "markdown",
   "id": "88f647d7",
   "metadata": {},
   "source": [
    "### Ride"
   ]
  },
  {
   "cell_type": "code",
   "execution_count": 11,
   "id": "e796470d",
   "metadata": {},
   "outputs": [
    {
     "name": "stdout",
     "output_type": "stream",
     "text": [
      "<class 'pandas.core.frame.DataFrame'>\n",
      "RangeIndex: 1068 entries, 0 to 1067\n",
      "Data columns (total 3 columns):\n",
      " #   Column              Non-Null Count  Dtype  \n",
      "---  ------              --------------  -----  \n",
      " 0   start_ts            1068 non-null   object \n",
      " 1   weather_conditions  1068 non-null   object \n",
      " 2   duration_seconds    1068 non-null   float64\n",
      "dtypes: float64(1), object(2)\n",
      "memory usage: 25.2+ KB\n"
     ]
    }
   ],
   "source": [
    "#Información general\n",
    "ride.info()"
   ]
  },
  {
   "cell_type": "markdown",
   "id": "3bb267d5",
   "metadata": {},
   "source": [
    "Para los datos 'ride', los nombres de las columnas tienen un formato adecuado, no hay valores ausentes y los tipos de datos son correctos en su mayoría. Sin embargo, el de fecha y hora de inicio debe cambiarse a datetime."
   ]
  },
  {
   "cell_type": "code",
   "execution_count": 12,
   "id": "8b061249",
   "metadata": {},
   "outputs": [
    {
     "data": {
      "text/html": [
       "<div>\n",
       "<style scoped>\n",
       "    .dataframe tbody tr th:only-of-type {\n",
       "        vertical-align: middle;\n",
       "    }\n",
       "\n",
       "    .dataframe tbody tr th {\n",
       "        vertical-align: top;\n",
       "    }\n",
       "\n",
       "    .dataframe thead th {\n",
       "        text-align: right;\n",
       "    }\n",
       "</style>\n",
       "<table border=\"1\" class=\"dataframe\">\n",
       "  <thead>\n",
       "    <tr style=\"text-align: right;\">\n",
       "      <th></th>\n",
       "      <th>start_ts</th>\n",
       "      <th>weather_conditions</th>\n",
       "      <th>duration_seconds</th>\n",
       "    </tr>\n",
       "  </thead>\n",
       "  <tbody>\n",
       "    <tr>\n",
       "      <th>0</th>\n",
       "      <td>2017-11-25 16:00:00</td>\n",
       "      <td>Good</td>\n",
       "      <td>2410.0</td>\n",
       "    </tr>\n",
       "    <tr>\n",
       "      <th>1</th>\n",
       "      <td>2017-11-25 14:00:00</td>\n",
       "      <td>Good</td>\n",
       "      <td>1920.0</td>\n",
       "    </tr>\n",
       "    <tr>\n",
       "      <th>2</th>\n",
       "      <td>2017-11-25 12:00:00</td>\n",
       "      <td>Good</td>\n",
       "      <td>1543.0</td>\n",
       "    </tr>\n",
       "    <tr>\n",
       "      <th>3</th>\n",
       "      <td>2017-11-04 10:00:00</td>\n",
       "      <td>Good</td>\n",
       "      <td>2512.0</td>\n",
       "    </tr>\n",
       "    <tr>\n",
       "      <th>4</th>\n",
       "      <td>2017-11-11 07:00:00</td>\n",
       "      <td>Good</td>\n",
       "      <td>1440.0</td>\n",
       "    </tr>\n",
       "  </tbody>\n",
       "</table>\n",
       "</div>"
      ],
      "text/plain": [
       "              start_ts weather_conditions  duration_seconds\n",
       "0  2017-11-25 16:00:00               Good            2410.0\n",
       "1  2017-11-25 14:00:00               Good            1920.0\n",
       "2  2017-11-25 12:00:00               Good            1543.0\n",
       "3  2017-11-04 10:00:00               Good            2512.0\n",
       "4  2017-11-11 07:00:00               Good            1440.0"
      ]
     },
     "execution_count": 12,
     "metadata": {},
     "output_type": "execute_result"
    }
   ],
   "source": [
    "#Viajes desde el Loop hasta el Aeropuerto Internacional O'Hare.\n",
    "ride.head() "
   ]
  },
  {
   "cell_type": "code",
   "execution_count": 13,
   "id": "e82bff74",
   "metadata": {},
   "outputs": [
    {
     "name": "stdout",
     "output_type": "stream",
     "text": [
      "<class 'pandas.core.frame.DataFrame'>\n",
      "RangeIndex: 1068 entries, 0 to 1067\n",
      "Data columns (total 3 columns):\n",
      " #   Column              Non-Null Count  Dtype         \n",
      "---  ------              --------------  -----         \n",
      " 0   start_ts            1068 non-null   datetime64[ns]\n",
      " 1   weather_conditions  1068 non-null   object        \n",
      " 2   duration_seconds    1068 non-null   float64       \n",
      "dtypes: datetime64[ns](1), float64(1), object(1)\n",
      "memory usage: 25.2+ KB\n"
     ]
    }
   ],
   "source": [
    "#Se cambia el tipo de dato de la hora y fecha de incio\n",
    "ride['start_ts'] = pd.to_datetime(ride['start_ts'], format = '%Y-%m-%d %H:%M:%S')\n",
    "ride.info() "
   ]
  },
  {
   "cell_type": "code",
   "execution_count": 17,
   "id": "b8a7a84b",
   "metadata": {},
   "outputs": [
    {
     "data": {
      "text/plain": [
       "197"
      ]
     },
     "execution_count": 17,
     "metadata": {},
     "output_type": "execute_result"
    }
   ],
   "source": [
    "#Se verifica si hay valores duplicados\n",
    "ride.duplicated().sum()"
   ]
  },
  {
   "cell_type": "code",
   "execution_count": 18,
   "id": "028edea4",
   "metadata": {},
   "outputs": [],
   "source": [
    "#Se eliminan los valores duplicados\n",
    "ride.drop_duplicates(inplace=True)"
   ]
  },
  {
   "cell_type": "code",
   "execution_count": 19,
   "id": "62b0c25b",
   "metadata": {},
   "outputs": [
    {
     "data": {
      "text/plain": [
       "0"
      ]
     },
     "execution_count": 19,
     "metadata": {},
     "output_type": "execute_result"
    }
   ],
   "source": [
    "#Se comprueban de nuevo los duplicados\n",
    "ride.duplicated().sum()"
   ]
  },
  {
   "cell_type": "markdown",
   "id": "216165f8",
   "metadata": {},
   "source": [
    "## Análisis exploratorio"
   ]
  },
  {
   "cell_type": "markdown",
   "id": "caddde3b",
   "metadata": {},
   "source": [
    "### 10 principales barrios en términos de finalización"
   ]
  },
  {
   "cell_type": "code",
   "execution_count": 20,
   "id": "e4622944",
   "metadata": {},
   "outputs": [
    {
     "data": {
      "text/html": [
       "<div>\n",
       "<style scoped>\n",
       "    .dataframe tbody tr th:only-of-type {\n",
       "        vertical-align: middle;\n",
       "    }\n",
       "\n",
       "    .dataframe tbody tr th {\n",
       "        vertical-align: top;\n",
       "    }\n",
       "\n",
       "    .dataframe thead th {\n",
       "        text-align: right;\n",
       "    }\n",
       "</style>\n",
       "<table border=\"1\" class=\"dataframe\">\n",
       "  <thead>\n",
       "    <tr style=\"text-align: right;\">\n",
       "      <th></th>\n",
       "      <th>dropoff_location_name</th>\n",
       "      <th>average_trips</th>\n",
       "    </tr>\n",
       "  </thead>\n",
       "  <tbody>\n",
       "    <tr>\n",
       "      <th>0</th>\n",
       "      <td>Loop</td>\n",
       "      <td>10727.466667</td>\n",
       "    </tr>\n",
       "    <tr>\n",
       "      <th>1</th>\n",
       "      <td>River North</td>\n",
       "      <td>9523.666667</td>\n",
       "    </tr>\n",
       "    <tr>\n",
       "      <th>2</th>\n",
       "      <td>Streeterville</td>\n",
       "      <td>6664.666667</td>\n",
       "    </tr>\n",
       "    <tr>\n",
       "      <th>3</th>\n",
       "      <td>West Loop</td>\n",
       "      <td>5163.666667</td>\n",
       "    </tr>\n",
       "    <tr>\n",
       "      <th>4</th>\n",
       "      <td>O'Hare</td>\n",
       "      <td>2546.900000</td>\n",
       "    </tr>\n",
       "    <tr>\n",
       "      <th>5</th>\n",
       "      <td>Lake View</td>\n",
       "      <td>2420.966667</td>\n",
       "    </tr>\n",
       "    <tr>\n",
       "      <th>6</th>\n",
       "      <td>Grant Park</td>\n",
       "      <td>2068.533333</td>\n",
       "    </tr>\n",
       "    <tr>\n",
       "      <th>7</th>\n",
       "      <td>Museum Campus</td>\n",
       "      <td>1510.000000</td>\n",
       "    </tr>\n",
       "    <tr>\n",
       "      <th>8</th>\n",
       "      <td>Gold Coast</td>\n",
       "      <td>1364.233333</td>\n",
       "    </tr>\n",
       "    <tr>\n",
       "      <th>9</th>\n",
       "      <td>Sheffield &amp; DePaul</td>\n",
       "      <td>1259.766667</td>\n",
       "    </tr>\n",
       "  </tbody>\n",
       "</table>\n",
       "</div>"
      ],
      "text/plain": [
       "  dropoff_location_name  average_trips\n",
       "0                  Loop   10727.466667\n",
       "1           River North    9523.666667\n",
       "2         Streeterville    6664.666667\n",
       "3             West Loop    5163.666667\n",
       "4                O'Hare    2546.900000\n",
       "5             Lake View    2420.966667\n",
       "6            Grant Park    2068.533333\n",
       "7         Museum Campus    1510.000000\n",
       "8            Gold Coast    1364.233333\n",
       "9    Sheffield & DePaul    1259.766667"
      ]
     },
     "execution_count": 20,
     "metadata": {},
     "output_type": "execute_result"
    }
   ],
   "source": [
    "#Se organizan los viajes promedios en forma descendente para saber cuales son los princilaes.\n",
    "neighborhood.sort_values(by=['average_trips'], ascending=False) \n",
    "\n",
    "#Se crea un dataframe con los 10 principales barrios en terminos de finalización.\n",
    "nbh10 = neighborhood.head(10) \n",
    "nbh10"
   ]
  },
  {
   "cell_type": "markdown",
   "id": "750a9e69",
   "metadata": {},
   "source": [
    "### Principales compañías de taxi"
   ]
  },
  {
   "cell_type": "code",
   "execution_count": 21,
   "id": "25f5dccf",
   "metadata": {},
   "outputs": [
    {
     "data": {
      "text/html": [
       "<div>\n",
       "<style scoped>\n",
       "    .dataframe tbody tr th:only-of-type {\n",
       "        vertical-align: middle;\n",
       "    }\n",
       "\n",
       "    .dataframe tbody tr th {\n",
       "        vertical-align: top;\n",
       "    }\n",
       "\n",
       "    .dataframe thead th {\n",
       "        text-align: right;\n",
       "    }\n",
       "</style>\n",
       "<table border=\"1\" class=\"dataframe\">\n",
       "  <thead>\n",
       "    <tr style=\"text-align: right;\">\n",
       "      <th></th>\n",
       "      <th>company_name</th>\n",
       "      <th>trips_amount</th>\n",
       "    </tr>\n",
       "  </thead>\n",
       "  <tbody>\n",
       "    <tr>\n",
       "      <th>0</th>\n",
       "      <td>Flash Cab</td>\n",
       "      <td>19558</td>\n",
       "    </tr>\n",
       "    <tr>\n",
       "      <th>1</th>\n",
       "      <td>Taxi Affiliation Services</td>\n",
       "      <td>11422</td>\n",
       "    </tr>\n",
       "    <tr>\n",
       "      <th>2</th>\n",
       "      <td>Medallion Leasing</td>\n",
       "      <td>10367</td>\n",
       "    </tr>\n",
       "    <tr>\n",
       "      <th>3</th>\n",
       "      <td>Yellow Cab</td>\n",
       "      <td>9888</td>\n",
       "    </tr>\n",
       "    <tr>\n",
       "      <th>4</th>\n",
       "      <td>Taxi Affiliation Service Yellow</td>\n",
       "      <td>9299</td>\n",
       "    </tr>\n",
       "    <tr>\n",
       "      <th>5</th>\n",
       "      <td>Chicago Carriage Cab Corp</td>\n",
       "      <td>9181</td>\n",
       "    </tr>\n",
       "    <tr>\n",
       "      <th>6</th>\n",
       "      <td>City Service</td>\n",
       "      <td>8448</td>\n",
       "    </tr>\n",
       "    <tr>\n",
       "      <th>7</th>\n",
       "      <td>Sun Taxi</td>\n",
       "      <td>7701</td>\n",
       "    </tr>\n",
       "    <tr>\n",
       "      <th>8</th>\n",
       "      <td>Star North Management LLC</td>\n",
       "      <td>7455</td>\n",
       "    </tr>\n",
       "    <tr>\n",
       "      <th>9</th>\n",
       "      <td>Blue Ribbon Taxi Association Inc.</td>\n",
       "      <td>5953</td>\n",
       "    </tr>\n",
       "  </tbody>\n",
       "</table>\n",
       "</div>"
      ],
      "text/plain": [
       "                        company_name  trips_amount\n",
       "0                          Flash Cab         19558\n",
       "1          Taxi Affiliation Services         11422\n",
       "2                  Medallion Leasing         10367\n",
       "3                         Yellow Cab          9888\n",
       "4    Taxi Affiliation Service Yellow          9299\n",
       "5          Chicago Carriage Cab Corp          9181\n",
       "6                       City Service          8448\n",
       "7                           Sun Taxi          7701\n",
       "8          Star North Management LLC          7455\n",
       "9  Blue Ribbon Taxi Association Inc.          5953"
      ]
     },
     "execution_count": 21,
     "metadata": {},
     "output_type": "execute_result"
    }
   ],
   "source": [
    "#Se organizan los viajes en forma descendente para saber cuales son los princilaes\n",
    "company.sort_values(by=['trips_amount'], ascending=False) \n",
    "\n",
    "#Se crea un dataframe con las 10 principales compañías de taxis\n",
    "c10 = company.head(10) \n",
    "c10"
   ]
  },
  {
   "cell_type": "markdown",
   "id": "c47ff812",
   "metadata": {},
   "source": [
    "### Empresas de taxis VS número de viajes"
   ]
  },
  {
   "cell_type": "code",
   "execution_count": 22,
   "id": "1b8bb025",
   "metadata": {},
   "outputs": [
    {
     "data": {
      "text/plain": [
       "<AxesSubplot:title={'center':'Empresas de taxis y número de viajes'}, xlabel='Compañía de taxis', ylabel='Número de viajes'>"
      ]
     },
     "execution_count": 22,
     "metadata": {},
     "output_type": "execute_result"
    },
    {
     "data": {
      "image/png": "[encoded data removed]",
      "text/plain": [
       "<Figure size 640x480 with 1 Axes>"
      ]
     },
     "metadata": {},
     "output_type": "display_data"
    }
   ],
   "source": [
    "c10.plot(kind='bar',\n",
    "            x='company_name',\n",
    "            y='trips_amount',\n",
    "            xlabel='Compañía de taxis',\n",
    "            ylabel='Número de viajes',\n",
    "            title='Empresas de taxis y número de viajes')"
   ]
  },
  {
   "cell_type": "markdown",
   "id": "272dadfa",
   "metadata": {},
   "source": [
    "La compañía Flash Cab hace casi el doble y hasta más de viajes que las demás compañías."
   ]
  },
  {
   "cell_type": "markdown",
   "id": "c47e0526",
   "metadata": {},
   "source": [
    "### 10 barrios principales de finalización por número promedio de viajes"
   ]
  },
  {
   "cell_type": "code",
   "execution_count": 24,
   "id": "f50c971d",
   "metadata": {},
   "outputs": [
    {
     "data": {
      "text/plain": [
       "<AxesSubplot:title={'center':'10 barrios de finalización principales por número promedio de viajes'}, xlabel='Barrio de finalización', ylabel='Viajes promedio'>"
      ]
     },
     "execution_count": 24,
     "metadata": {},
     "output_type": "execute_result"
    },
    {
     "data": {
      "image/png": "[encoded data removed]",
      "text/plain": [
       "<Figure size 640x480 with 1 Axes>"
      ]
     },
     "metadata": {},
     "output_type": "display_data"
    }
   ],
   "source": [
    "nbh10.plot(kind='bar',\n",
    "          x='dropoff_location_name',\n",
    "          y='average_trips',\n",
    "          xlabel='Barrio de finalización',\n",
    "          ylabel='Viajes promedio',\n",
    "          title='10 barrios de finalización principales por número promedio de viajes')"
   ]
  },
  {
   "cell_type": "markdown",
   "id": "091e14dd",
   "metadata": {},
   "source": [
    "Los barrios principales son Loop, River North, Streeterville and West Loop, seguidos por menos de la mitad de viajes promedio por los demás barrios."
   ]
  },
  {
   "cell_type": "markdown",
   "id": "5a52d17c",
   "metadata": {},
   "source": [
    "## Prueba de hipótesis"
   ]
  },
  {
   "cell_type": "code",
   "execution_count": 25,
   "id": "7227a723",
   "metadata": {},
   "outputs": [
    {
     "data": {
      "text/html": [
       "<div>\n",
       "<style scoped>\n",
       "    .dataframe tbody tr th:only-of-type {\n",
       "        vertical-align: middle;\n",
       "    }\n",
       "\n",
       "    .dataframe tbody tr th {\n",
       "        vertical-align: top;\n",
       "    }\n",
       "\n",
       "    .dataframe thead th {\n",
       "        text-align: right;\n",
       "    }\n",
       "</style>\n",
       "<table border=\"1\" class=\"dataframe\">\n",
       "  <thead>\n",
       "    <tr style=\"text-align: right;\">\n",
       "      <th></th>\n",
       "      <th>start_ts</th>\n",
       "      <th>weather_conditions</th>\n",
       "      <th>duration_seconds</th>\n",
       "      <th>day</th>\n",
       "    </tr>\n",
       "  </thead>\n",
       "  <tbody>\n",
       "    <tr>\n",
       "      <th>0</th>\n",
       "      <td>2017-11-25 16:00:00</td>\n",
       "      <td>Good</td>\n",
       "      <td>2410.0</td>\n",
       "      <td>25</td>\n",
       "    </tr>\n",
       "    <tr>\n",
       "      <th>1</th>\n",
       "      <td>2017-11-25 14:00:00</td>\n",
       "      <td>Good</td>\n",
       "      <td>1920.0</td>\n",
       "      <td>25</td>\n",
       "    </tr>\n",
       "    <tr>\n",
       "      <th>2</th>\n",
       "      <td>2017-11-25 12:00:00</td>\n",
       "      <td>Good</td>\n",
       "      <td>1543.0</td>\n",
       "      <td>25</td>\n",
       "    </tr>\n",
       "    <tr>\n",
       "      <th>3</th>\n",
       "      <td>2017-11-04 10:00:00</td>\n",
       "      <td>Good</td>\n",
       "      <td>2512.0</td>\n",
       "      <td>4</td>\n",
       "    </tr>\n",
       "    <tr>\n",
       "      <th>4</th>\n",
       "      <td>2017-11-11 07:00:00</td>\n",
       "      <td>Good</td>\n",
       "      <td>1440.0</td>\n",
       "      <td>11</td>\n",
       "    </tr>\n",
       "  </tbody>\n",
       "</table>\n",
       "</div>"
      ],
      "text/plain": [
       "             start_ts weather_conditions  duration_seconds  day\n",
       "0 2017-11-25 16:00:00               Good            2410.0   25\n",
       "1 2017-11-25 14:00:00               Good            1920.0   25\n",
       "2 2017-11-25 12:00:00               Good            1543.0   25\n",
       "3 2017-11-04 10:00:00               Good            2512.0    4\n",
       "4 2017-11-11 07:00:00               Good            1440.0   11"
      ]
     },
     "execution_count": 25,
     "metadata": {},
     "output_type": "execute_result"
    }
   ],
   "source": [
    "#Se crea una columna con el día para trabajar con los sabádos\n",
    "\n",
    "ride['day'] = ride['start_ts'].dt.day\n",
    "ride.head()"
   ]
  },
  {
   "cell_type": "code",
   "execution_count": 26,
   "id": "81767c70",
   "metadata": {},
   "outputs": [
    {
     "data": {
      "text/plain": [
       "array([25,  4, 11, 18])"
      ]
     },
     "execution_count": 26,
     "metadata": {},
     "output_type": "execute_result"
    }
   ],
   "source": [
    "ride['day'].unique()"
   ]
  },
  {
   "cell_type": "markdown",
   "id": "b61aa53f",
   "metadata": {},
   "source": [
    "Los sabádos del mes de noviembre del 2017 corresponde a los días: 4, 11, 18 y 25. No es necesario aplicar ningún filtro"
   ]
  },
  {
   "cell_type": "markdown",
   "id": "fdfefdc4",
   "metadata": {},
   "source": [
    "Probar la hipótesis \"La duración promedio de los viajes desde el Loop hasta el Aeropuerto Internacional O'Hare cambia los sábados lluviosos\":\n",
    "\n",
    "Hipótesis nula: La duración promedio de los viajes desde el Loop hasta el Aeropuerto Internacional O'Hare es igual los sabádos lluviosos y los sabádos no lluviosos.\n",
    "Hipótesis alternativa: La duración promedio de los viajes desde el Loop hasta el Aeropuerto Internacional O'Hare es cambia los sabádos lluviosos y los sabádos no lluviosos."
   ]
  },
  {
   "cell_type": "code",
   "execution_count": 27,
   "id": "d0fdec9e",
   "metadata": {},
   "outputs": [
    {
     "name": "stdout",
     "output_type": "stream",
     "text": [
      "Valor-p: 9.126383933880083e-08\n",
      "Se rechaza la hipótesis nula\n"
     ]
    }
   ],
   "source": [
    "bad = ride[ride['weather_conditions'] == 'Bad']\n",
    "duration_bad = bad['duration_seconds']\n",
    "\n",
    "good = ride[ride['weather_conditions'] == 'Good']\n",
    "duration_good = good['duration_seconds']\n",
    "\n",
    "alpha = 0.05\n",
    "\n",
    "result = st.ttest_ind(duration_bad, duration_good, equal_var = False)\n",
    "\n",
    "print('Valor-p:', result.pvalue)\n",
    "\n",
    "if (result.pvalue < alpha):\n",
    "    print('Se rechaza la hipótesis nula')\n",
    "else: \n",
    "    print('No se puede rechazar la hipótesis nula')"
   ]
  },
  {
   "cell_type": "markdown",
   "id": "64570697",
   "metadata": {},
   "source": [
    "A partir de la prueba de hipótesis se puede rechazar la hipótesis nula, es decir: La duración promedio de los viajes desde el Loop hasta el Aeropuerto Internacional O'Hare cambia los sábados lluviosos y los sábados no lluviosos"
   ]
  },
  {
   "cell_type": "markdown",
   "id": "85a69070",
   "metadata": {},
   "source": [
    "# Conclusión"
   ]
  },
  {
   "cell_type": "markdown",
   "id": "3c882b16",
   "metadata": {},
   "source": [
    "La mayor competencia para la compañía `Zuber`, es `Flash Cab`, ya que esta hace casi el doble y hasta más, de viajes que las demás compañías.\n",
    "\n",
    "Zuber desde ya sabe que hay una alta probabilidad de que la mayoría de las veces, los barrios de finalización sean `Loop`, `River North`, `Streeterville` y `West Loop`.\n",
    "\n",
    "Respecto a cambios por el clima, se sabe que la duración promedio de los viajes desde el `Loop` hasta el `Aeropuerto Internacional O'Hare`, los días sábados, cambia dependiendo de si está lloviendo o no."
   ]
  }
 ],
 "metadata": {
  "ExecuteTimeLog": [
   {
    "duration": 758,
    "start_time": "2024-09-22T17:37:34.398Z"
   },
   {
    "duration": 3,
    "start_time": "2024-09-22T17:37:49.502Z"
   },
   {
    "duration": 20,
    "start_time": "2024-09-22T17:37:57.778Z"
   },
   {
    "duration": 10,
    "start_time": "2024-09-22T17:38:26.341Z"
   },
   {
    "duration": 6,
    "start_time": "2024-09-22T17:39:05.042Z"
   },
   {
    "duration": 6,
    "start_time": "2024-09-22T17:39:33.512Z"
   },
   {
    "duration": 9,
    "start_time": "2024-09-22T17:40:43.840Z"
   },
   {
    "duration": 8,
    "start_time": "2024-09-22T17:41:17.735Z"
   },
   {
    "duration": 6,
    "start_time": "2024-09-22T17:42:04.303Z"
   },
   {
    "duration": 8,
    "start_time": "2024-09-22T17:42:25.213Z"
   },
   {
    "duration": 8,
    "start_time": "2024-09-22T17:43:15.711Z"
   },
   {
    "duration": 6,
    "start_time": "2024-09-22T17:43:28.031Z"
   },
   {
    "duration": 10,
    "start_time": "2024-09-22T17:45:36.648Z"
   },
   {
    "duration": 4,
    "start_time": "2024-09-22T17:46:02.602Z"
   },
   {
    "duration": 5,
    "start_time": "2024-09-22T17:46:27.018Z"
   },
   {
    "duration": 5,
    "start_time": "2024-09-22T17:46:50.457Z"
   },
   {
    "duration": 5,
    "start_time": "2024-09-22T17:47:15.300Z"
   },
   {
    "duration": 4,
    "start_time": "2024-09-22T17:47:52.099Z"
   },
   {
    "duration": 6,
    "start_time": "2024-09-22T17:48:07.081Z"
   },
   {
    "duration": 7,
    "start_time": "2024-09-22T17:49:51.394Z"
   },
   {
    "duration": 9,
    "start_time": "2024-09-22T17:51:02.056Z"
   },
   {
    "duration": 187,
    "start_time": "2024-09-22T17:52:02.815Z"
   },
   {
    "duration": 2,
    "start_time": "2024-09-22T17:52:57.842Z"
   },
   {
    "duration": 148,
    "start_time": "2024-09-22T17:53:39.376Z"
   },
   {
    "duration": 8,
    "start_time": "2024-09-22T17:55:25.860Z"
   },
   {
    "duration": 4,
    "start_time": "2024-09-22T17:55:58.769Z"
   },
   {
    "duration": 6,
    "start_time": "2024-09-22T17:56:50.395Z"
   }
  ],
  "kernelspec": {
   "display_name": "Python 3 (ipykernel)",
   "language": "python",
   "name": "python3"
  },
  "language_info": {
   "codemirror_mode": {
    "name": "ipython",
    "version": 3
   },
   "file_extension": ".py",
   "mimetype": "text/x-python",
   "name": "python",
   "nbconvert_exporter": "python",
   "pygments_lexer": "ipython3",
   "version": "3.9.19"
  },
  "toc": {
   "base_numbering": 1,
   "nav_menu": {},
   "number_sections": true,
   "sideBar": true,
   "skip_h1_title": true,
   "title_cell": "Table of Contents",
   "title_sidebar": "Contents",
   "toc_cell": false,
   "toc_position": {},
   "toc_section_display": true,
   "toc_window_display": false
  }
 },
 "nbformat": 4,
 "nbformat_minor": 5
}
